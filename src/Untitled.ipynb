{
 "cells": [
  {
   "cell_type": "code",
   "execution_count": 25,
   "id": "ee826b59",
   "metadata": {},
   "outputs": [],
   "source": [
    "import requests\n",
    "import urllib\n",
    "from requests_html import HTML\n",
    "from requests_html import HTMLSession\n",
    "from bs4 import BeautifulSoup\n",
    "\n",
    "def find_all_description_metas(tag):\n",
    "    return tag.name ==\"meta\" and (tag.get(\"name\") == \"description\" or tag.get(\"property\") == \"og:description\")\n"
   ]
  },
  {
   "cell_type": "code",
   "execution_count": 40,
   "id": "ae6f5fd0",
   "metadata": {},
   "outputs": [],
   "source": [
    "session = HTMLSession()\n",
    "response = session.get(\"https://caffe-gilles.business.site/?utm_source=gmb&utm_medium=referral\")"
   ]
  },
  {
   "cell_type": "code",
   "execution_count": 42,
   "id": "64516468",
   "metadata": {},
   "outputs": [
    {
     "data": {
      "text/plain": [
       "'en'"
      ]
     },
     "execution_count": 42,
     "metadata": {},
     "output_type": "execute_result"
    }
   ],
   "source": [
    "soup = BeautifulSoup(response.content, 'html.parser')\n",
    "soup.html.get(\"lang\")"
   ]
  },
  {
   "cell_type": "code",
   "execution_count": 15,
   "id": "1a71599f",
   "metadata": {},
   "outputs": [
    {
     "data": {
      "text/plain": [
       "['https://www.alza.cz/samsung-galaxy-s20/18875321.htm',\n",
       " 'https://www.samsung.com/cz/smartphones/galaxy-s20/',\n",
       " 'https://www.samsung.com/cz/smartphones/galaxy-s20/buy/',\n",
       " 'https://mobilni-telefony.heureka.cz/samsung-galaxy-s20-g980f-8gb-128gb-dual-sim/',\n",
       " 'https://www.gsmarena.com/samsung_galaxy_s20-10081.php',\n",
       " 'https://www.gsmarena.com/samsung_galaxy_s20_5g-10044.php',\n",
       " 'https://www.zbozi.cz/vyrobek/samsung-galaxy-s20-g980f/',\n",
       " 'https://www.zbozi.cz/vyrobek/samsung-galaxy-s20-fe-g780f/']"
      ]
     },
     "execution_count": 15,
     "metadata": {},
     "output_type": "execute_result"
    }
   ],
   "source": [
    "[tag.get(\"href\") for tag in just_links if tag.get(\"href\").startswith(\"http\")]"
   ]
  },
  {
   "cell_type": "code",
   "execution_count": 11,
   "id": "1246d2b5",
   "metadata": {},
   "outputs": [
    {
     "data": {
      "text/plain": [
       "'Počítače | CZC.czReklama·https://www.czc.cz/313 110 000\\n'"
      ]
     },
     "execution_count": 11,
     "metadata": {},
     "output_type": "execute_result"
    }
   ],
   "source": [
    "link_with_ad = \"\"\"\n",
    "<a class=\"sVXRqc\" data-agch=\"HJ3bqe\" data-pcu=\"https://www.czc.cz/\" data-agdh=\"fvd3vc\" data-rw=\"https://www.googleadservices.com/pagead/aclk?sa=L&amp;ai=DChcSEwia4tDp9J_4AhULzncKHSyiAdQYABAUGgJlZg&amp;ae=2&amp;ohost=www.google.com&amp;cid=CAESa-D2EX3R-ZUqANfv5cWefGz5_1xpr4FZThAbteWVly2LT-dN_QFDnbK42ME6vXvaXxynfPbhOE3705-2kJtZa_b_erjewJ1KDTzilLUCdHtItSXCzANOoNIEdGgdsnWkLyo_w3JwK4TzKkUE&amp;sig=AOD64_04XZd4dTW5ibka21x85iOrp0Lq_w&amp;q&amp;adurl\" href=\"https://www.czc.cz/pocitace/produkty\" data-ae=\"1\" data-al=\"1\" data-ved=\"2ahUKEwjisMbp9J_4AhXZk_0HHaGJB_cQ0Qx6BAgFEAE\"><br><div class=\"CCgQ5 vCa9Yd QfkTvb MUxGbd v0nnCb\" aria-level=\"3\" role=\"heading\"><span>Počítače | CZC.cz</span></div><div class=\"d8lRkd\"><span class=\"CnP9N U3A9Ac irmCpc\">Reklama<span style=\"padding:0 5px\">·</span></span><span class=\"x2VHCd OSrXXb qzEoUe\" data-dtld=\"czc.cz\" role=\"text\">https://www.czc.cz/</span><span class=\"nMdasd weu8Yd r2fjmd\"><span class=\"aii\"><div class=\"YMEk9e r2fjmd HbX59e uYZpsf\"><span class=\"YauQSc u60jwe Tbiej\"></span></div></span></span><span class=\"fUamLb r7TaRd nMdasd MUxGbd wuQ4Ob WZ8Tjf\" style=\"color:#dadce0\" data-hveid=\"CAUQAg\"><span>313 110 000</span></span></div></a>\n",
    "\"\"\"\n",
    "\n",
    "soup2 = BeautifulSoup(link_with_ad)\n",
    "soup2.get_text()"
   ]
  },
  {
   "cell_type": "code",
   "execution_count": 11,
   "id": "05705c48",
   "metadata": {},
   "outputs": [],
   "source": [
    "session = HTMLSession()\n",
    "response = session.get(\"https://iotdomu.cz\")\n",
    "soup = BeautifulSoup(response.content, 'html.parser')"
   ]
  },
  {
   "cell_type": "code",
   "execution_count": 13,
   "id": "84e9b7f2",
   "metadata": {},
   "outputs": [
    {
     "data": {
      "text/plain": [
       "'Založte si účet a připojte si vlastní zařízení! Vše je velmi snadné.'"
      ]
     },
     "execution_count": 13,
     "metadata": {},
     "output_type": "execute_result"
    }
   ],
   "source": [
    "tags = [tag.get(\"content\") for tag in soup.find_all(\"meta\", {\"name\": \"description\"})]\n",
    "tags[0]"
   ]
  },
  {
   "cell_type": "code",
   "execution_count": 37,
   "id": "621347d8",
   "metadata": {},
   "outputs": [
    {
     "data": {
      "text/plain": [
       "'IOT Domu'"
      ]
     },
     "execution_count": 37,
     "metadata": {},
     "output_type": "execute_result"
    }
   ],
   "source": [
    "soup.title.get_text()"
   ]
  },
  {
   "cell_type": "code",
   "execution_count": 21,
   "id": "0600acd6",
   "metadata": {},
   "outputs": [],
   "source": [
    "session = HTMLSession()\n",
    "response = session.get(\"https://www.grandrapidsmi.gov/Home\")\n",
    "soup = BeautifulSoup(response.content, 'html.parser')\n"
   ]
  },
  {
   "cell_type": "code",
   "execution_count": 29,
   "id": "93110c0f",
   "metadata": {},
   "outputs": [],
   "source": [
    "#soup.find_all(find_all_description_metas)\n",
    "\n",
    "def remove_square_brackets(text):\n",
    "    return re.sub(r'\\[[^\\]]*\\]', '',text)"
   ]
  },
  {
   "cell_type": "code",
   "execution_count": 31,
   "id": "e52878db",
   "metadata": {},
   "outputs": [],
   "source": [
    "\n",
    "response = session.get(f\"https://en.wikipedia.org/w/rest.php/v1/page/Czech_Republic/html\")\n",
    "\n",
    "page = BeautifulSoup(response.content, 'html.parser')"
   ]
  },
  {
   "cell_type": "code",
   "execution_count": 36,
   "id": "db0c6e86",
   "metadata": {},
   "outputs": [
    {
     "data": {
      "text/plain": [
       "'The Czech Republic,[lower-alpha 1][12] also called Czechia[lower-alpha 2][13] is a landlocked country in Central Europe. Historically known as Bohemia,[14] it is bordered by Austria to the south, Germany to the west, Poland to the northeast, and Slovakia to the southeast.[15] The Czech Republic has a hilly landscape that covers an area of 78,871 square kilometers (30,452\\xa0sq\\xa0mi) with a mostly temperate continental and oceanic climate. The capital and largest city is Prague; other major cities and urban areas include Brno, Ostrava, Plzeň and Liberec.'"
      ]
     },
     "execution_count": 36,
     "metadata": {},
     "output_type": "execute_result"
    }
   ],
   "source": [
    "tags = page.select(\"section > p\")\n",
    "# for tag in tags:\n",
    "#     if tag.name == \"p\":\n",
    "#         for t in tag:\n",
    "#             if t.name == \"sup\":\n",
    "#                 t.extract()\n",
    "tags[1].get_text()"
   ]
  },
  {
   "cell_type": "code",
   "execution_count": 15,
   "id": "9d4c4d51",
   "metadata": {},
   "outputs": [],
   "source": [
    "response = session.get(\"https://en.chateauversailles.fr/discover/estate/gardens\")\n",
    "page = BeautifulSoup(response.content, 'html.parser')"
   ]
  },
  {
   "cell_type": "code",
   "execution_count": 23,
   "id": "3461b280",
   "metadata": {},
   "outputs": [],
   "source": [
    "import re\n",
    "google_text = \"Creating the gardens was a monumental task. Large amounts of soil had to be shifted to level the ground, create parterres, build the Orangery and dig out the ... Uploaded by Château de Versailles\"\n",
    "look_text = re.sub(\"\\.\\.\\..*$\", \"\", google_text).strip()\n",
    "page.find(lambda x: x.name == \"p\" and x.get_text(strip=True) == look_text)"
   ]
  },
  {
   "cell_type": "code",
   "execution_count": 24,
   "id": "eb7bc94f",
   "metadata": {},
   "outputs": [
    {
     "data": {
      "text/plain": [
       "[<p><span><a href=\"https://en.chateauversailles.fr/\">Home</a></span></p>,\n",
       " <p><i class=\"icon-arrow-long\"></i><span><a class=\"active-trail\" href=\"https://en.chateauversailles.fr/discover\">Discover</a></span></p>,\n",
       " <p><i class=\"icon-arrow-long\"></i><span><a class=\"active-trail\" href=\"https://en.chateauversailles.fr/discover/estate\">The Estate</a></span></p>,\n",
       " <p><i class=\"icon-arrow-long\"></i><span>The Gardens</span></p>,\n",
       " <p class=\"text--lead\">Visitors looking through the central window in the <a href=\"http://en.chateauversailles.fr/discover/estate/hall-mirrors\">Hall of Mirrors</a> will see the Grande Perspective stretching away towards the horizon from the Water Parterre. This unique east-west perspective originally dates from before the reign of <a href=\"http://en.chateauversailles.fr/discover/history/louis-xiv\">Louis XIV</a>, but it was developed and extended by the gardener <a href=\"http://en.chateauversailles.fr/discover/history/andre-le-notre\">André Le Nôtre</a>, who widened the Royal Way and dug the Grand Canal.</p>,\n",
       " <p style=\"text-align: justify;\">In 1661 <a href=\"http://en.chateauversailles.fr/discover/history/louis-xiv\">Louis XIV</a> entrusted <a href=\"http://en.chateauversailles.fr/discover/history/andre-le-notre\">André Le Nôtre</a> with the creation and renovation of the gardens of Versailles, which he considered just as important as the Palace. Work on the gardens was started at the same time as the work on the <a href=\"http://en.chateauversailles.fr/discover/estate/palace\">palace</a> and lasted for 40 or so years. During this time André Le Nôtre collaborated with the likes of <a class=\"tooltip\" data-tooltip=\" : Jean-Baptiste Colbert (1619-1683) was one of Louis XIV’s most important ministers. He succeeded Mazarin in 1661… Find out more \" href=\"http://en.chateauversailles.fr/discover/history/jean-baptiste-colbert\">Jean-Baptiste Colbert</a>, Superintendant of Buildings to the King from 1664 to 1683, who managed the project, and <a class=\"tooltip\" data-tooltip=\" : Charles Le Brun (1619-1690) was First Painter to King Louis XIV. He is famous for the Hall of Mirrors… Find out more \" href=\"http://en.chateauversailles.fr/discover/history/charles-le-brun\">Charles Le Brun</a>, who was made First Painter to the King in January 1664 and provided the drawings for a large number of the statues and fountains. Last but not least, each project was reviewed by the King himself, who was keen to see “every detail”. Not long after, the architect <a href=\"http://en.chateauversailles.fr/discover/history/jules-hardouin-mansart\">Jules Hardouin-Mansart</a>, having been made First Architect to the King and Superintendant of Buildings, built the Orangery and simplified the outlines of the Park, in particular by modifying or opening up some of the groves.</p>,\n",
       " <p><img alt=\"\" data-picture-mapping=\"not_set\" height=\"750\" src=\"/sites/default/files/j1.jpg\" width=\"1000\"/></p>,\n",
       " <p style=\"text-align: justify;\">Creating the gardens was a monumental task. Large amounts of soil had to be shifted to level the ground, create parterres, build the <a href=\"http://en.chateauversailles.fr/discover/estate/gardens/orangery\">Orangery</a> and dig out the fountains and Canal in places previously occupied solely by meadows and marshes. Trees were brought in from different regions of France. Thousands of men, sometimes even entire regiments, took part in this immense project.</p>,\n",
       " <p><img alt=\"\" data-picture-mapping=\"not_set\" height=\"750\" src=\"/sites/default/files/j0.jpg\" width=\"1000\"/></p>,\n",
       " <p style=\"text-align: justify;\">To maintain the design, the garden needed to be replanted approximately once every 100 years. <a href=\"http://en.chateauversailles.fr/discover/history/louis-xvi\">Louis XVI</a> did so at the beginning of his reign, and the undertaking was next carried out during the reign of <a class=\"tooltip\" data-tooltip=\" : Louis-Napoleon Bonaparte (1808-1873) was President of the Second Republic in 1848. He instigated the Second Empire in 1852… Find out more \" href=\"http://www.museehistoiredefrance.fr/index.php?option=com_epoque&amp;view=details&amp;eid=39\">Napoleon III</a>. Following damage caused by a series of storms in the late 20th century, including <u>one in December 1999</u>, which was the most devastating, the garden has been fully replanted and now boasts a fresh, youthful appearance similar to how it would have looked to Louis XIV.</p>,\n",
       " <p><iframe allow=\"accelerometer; autoplay; encrypted-media; gyroscope; picture-in-picture\" allowfullscreen=\"\" frameborder=\"0\" height=\"315\" src=\"https://www.youtube-nocookie.com/embed/Jj6JCwiZlck\" width=\"560\"></iframe></p>,\n",
       " <p></p>,\n",
       " <p></p>,\n",
       " <p></p>,\n",
       " <p></p>,\n",
       " <p></p>,\n",
       " <p></p>,\n",
       " <p>A place of intimacy</p>,\n",
       " <p>From the seat of power to a museum of the history of France</p>,\n",
       " <p class=\"cat\">Show</p>,\n",
       " <p><a href=\"https://en.chateauversailles.fr/news/shows/fountains-shows-and-musical-gardens\">From April 1st to October 30th 2022, enjoy the Musical Gardens from Tuesday to Friday and the Musical Fountains Shows on Saturdays and Sundays in the Gardens and the groves open for the occasion. Every Saturday night from June 11th to September 24th, and on Thursday July 14th and Monday August 15th, discover the gardens of Versailles in the evening with the Night Fountains Shows.\n",
       " </a></p>,\n",
       " <p class=\"cat\">Show</p>,\n",
       " <p><a href=\"https://en.chateauversailles.fr/news/festival-versailles-2020\">Concerts, operas, masked balls and shows : discover the programme for the 10th edition of the Festival of Versailles.</a></p>,\n",
       " <p><strong>Palace</strong><br/>from 9.00 am to 6.30 pm<br/><span class=\"text--gray\">Closed on Mondays</span></p>,\n",
       " <p><strong>Estate of Trianon</strong><br/>from 12.00 pm to 6.30 pm<br/><span class=\"text--gray\">Closed on Mondays</span></p>,\n",
       " <p><strong>Gardens</strong><br/>from 8.00 am to 8.30 pm</p>,\n",
       " <p><b>Park</b><br/>from 7.00 am to 8.30 pm</p>,\n",
       " <p>Place d'Armes<br/>78000 Versailles<br/>France</p>,\n",
       " <p><a href=\"http://en.chateauversailles.fr/plan-your-visit/practical-information\" title=\"Informations pratiques\">Practical information</a></p>,\n",
       " <p> </p>,\n",
       " <p>+ 33 1 30 83 78 00<br/><em>price of a call to France</em><br/> </p>,\n",
       " <p><a href=\"http://en.chateauversailles.fr/contact-us\" title=\"Contact\">Contact us</a></p>,\n",
       " <p><a class=\"btn btn--primary\" href=\"http://en.chateauversailles.fr/plan-your-visit\" title=\"Préparer ma visite\">Plan your visit</a></p>,\n",
       " <p> </p>,\n",
       " <p>The Palace of Versailles benefited from the France Relance plan.</p>,\n",
       " <p><img alt=\"\" data-picture-mapping=\"not_set\" height=\"112\" src=\"/sites/default/files/ministere-de-la-culture-france-relance_2021.jpg\" width=\"230\"/></p>,\n",
       " <p class=\"field-label\">You are:</p>,\n",
       " <p class=\"field-label\">Our sites</p>]"
      ]
     },
     "execution_count": 24,
     "metadata": {},
     "output_type": "execute_result"
    }
   ],
   "source": [
    "page.find_all(\"p\")"
   ]
  },
  {
   "cell_type": "code",
   "execution_count": null,
   "id": "1b415bda",
   "metadata": {},
   "outputs": [],
   "source": []
  }
 ],
 "metadata": {
  "interpreter": {
   "hash": "293bd1c08fc55577dcaba20f9488b7f2b02ba5be8eb6f02eced97a3aa5098b20"
  },
  "kernelspec": {
   "display_name": "Python 3.9.12 ('venv': venv)",
   "language": "python",
   "name": "python3"
  },
  "language_info": {
   "codemirror_mode": {
    "name": "ipython",
    "version": 3
   },
   "file_extension": ".py",
   "mimetype": "text/x-python",
   "name": "python",
   "nbconvert_exporter": "python",
   "pygments_lexer": "ipython3",
   "version": "3.9.13"
  }
 },
 "nbformat": 4,
 "nbformat_minor": 5
}
