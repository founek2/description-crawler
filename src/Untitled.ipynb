{
 "cells": [
  {
   "cell_type": "code",
   "execution_count": 43,
   "id": "ee826b59",
   "metadata": {},
   "outputs": [],
   "source": [
    "import requests\n",
    "import urllib\n",
    "from requests_html import HTML\n",
    "from requests_html import HTMLSession\n",
    "from bs4 import BeautifulSoup\n",
    "\n",
    "def find_all_description_metas(tag):\n",
    "    return tag.name ==\"meta\" and (tag.get(\"name\") == \"description\" or tag.get(\"property\") == \"og:description\")\n"
   ]
  },
  {
   "cell_type": "code",
   "execution_count": 44,
   "id": "ae6f5fd0",
   "metadata": {},
   "outputs": [],
   "source": [
    "session = HTMLSession()\n",
    "response = session.get(\"https://caffe-gilles.business.site/?utm_source=gmb&utm_medium=referral\")"
   ]
  },
  {
   "cell_type": "code",
   "execution_count": 42,
   "id": "64516468",
   "metadata": {},
   "outputs": [
    {
     "data": {
      "text/plain": [
       "'en'"
      ]
     },
     "execution_count": 42,
     "metadata": {},
     "output_type": "execute_result"
    }
   ],
   "source": [
    "soup = BeautifulSoup(response.content, 'html.parser')\n",
    "soup.html.get(\"lang\")"
   ]
  },
  {
   "cell_type": "code",
   "execution_count": 15,
   "id": "1a71599f",
   "metadata": {},
   "outputs": [
    {
     "data": {
      "text/plain": [
       "['https://www.alza.cz/samsung-galaxy-s20/18875321.htm',\n",
       " 'https://www.samsung.com/cz/smartphones/galaxy-s20/',\n",
       " 'https://www.samsung.com/cz/smartphones/galaxy-s20/buy/',\n",
       " 'https://mobilni-telefony.heureka.cz/samsung-galaxy-s20-g980f-8gb-128gb-dual-sim/',\n",
       " 'https://www.gsmarena.com/samsung_galaxy_s20-10081.php',\n",
       " 'https://www.gsmarena.com/samsung_galaxy_s20_5g-10044.php',\n",
       " 'https://www.zbozi.cz/vyrobek/samsung-galaxy-s20-g980f/',\n",
       " 'https://www.zbozi.cz/vyrobek/samsung-galaxy-s20-fe-g780f/']"
      ]
     },
     "execution_count": 15,
     "metadata": {},
     "output_type": "execute_result"
    }
   ],
   "source": [
    "[tag.get(\"href\") for tag in just_links if tag.get(\"href\").startswith(\"http\")]"
   ]
  },
  {
   "cell_type": "code",
   "execution_count": 11,
   "id": "1246d2b5",
   "metadata": {},
   "outputs": [
    {
     "data": {
      "text/plain": [
       "'Počítače | CZC.czReklama·https://www.czc.cz/313 110 000\\n'"
      ]
     },
     "execution_count": 11,
     "metadata": {},
     "output_type": "execute_result"
    }
   ],
   "source": [
    "link_with_ad = \"\"\"\n",
    "<a class=\"sVXRqc\" data-agch=\"HJ3bqe\" data-pcu=\"https://www.czc.cz/\" data-agdh=\"fvd3vc\" data-rw=\"https://www.googleadservices.com/pagead/aclk?sa=L&amp;ai=DChcSEwia4tDp9J_4AhULzncKHSyiAdQYABAUGgJlZg&amp;ae=2&amp;ohost=www.google.com&amp;cid=CAESa-D2EX3R-ZUqANfv5cWefGz5_1xpr4FZThAbteWVly2LT-dN_QFDnbK42ME6vXvaXxynfPbhOE3705-2kJtZa_b_erjewJ1KDTzilLUCdHtItSXCzANOoNIEdGgdsnWkLyo_w3JwK4TzKkUE&amp;sig=AOD64_04XZd4dTW5ibka21x85iOrp0Lq_w&amp;q&amp;adurl\" href=\"https://www.czc.cz/pocitace/produkty\" data-ae=\"1\" data-al=\"1\" data-ved=\"2ahUKEwjisMbp9J_4AhXZk_0HHaGJB_cQ0Qx6BAgFEAE\"><br><div class=\"CCgQ5 vCa9Yd QfkTvb MUxGbd v0nnCb\" aria-level=\"3\" role=\"heading\"><span>Počítače | CZC.cz</span></div><div class=\"d8lRkd\"><span class=\"CnP9N U3A9Ac irmCpc\">Reklama<span style=\"padding:0 5px\">·</span></span><span class=\"x2VHCd OSrXXb qzEoUe\" data-dtld=\"czc.cz\" role=\"text\">https://www.czc.cz/</span><span class=\"nMdasd weu8Yd r2fjmd\"><span class=\"aii\"><div class=\"YMEk9e r2fjmd HbX59e uYZpsf\"><span class=\"YauQSc u60jwe Tbiej\"></span></div></span></span><span class=\"fUamLb r7TaRd nMdasd MUxGbd wuQ4Ob WZ8Tjf\" style=\"color:#dadce0\" data-hveid=\"CAUQAg\"><span>313 110 000</span></span></div></a>\n",
    "\"\"\"\n",
    "\n",
    "soup2 = BeautifulSoup(link_with_ad)\n",
    "soup2.get_text()"
   ]
  },
  {
   "cell_type": "code",
   "execution_count": 11,
   "id": "05705c48",
   "metadata": {},
   "outputs": [],
   "source": [
    "session = HTMLSession()\n",
    "response = session.get(\"https://iotdomu.cz\")\n",
    "soup = BeautifulSoup(response.content, 'html.parser')"
   ]
  },
  {
   "cell_type": "code",
   "execution_count": 13,
   "id": "84e9b7f2",
   "metadata": {},
   "outputs": [
    {
     "data": {
      "text/plain": [
       "'Založte si účet a připojte si vlastní zařízení! Vše je velmi snadné.'"
      ]
     },
     "execution_count": 13,
     "metadata": {},
     "output_type": "execute_result"
    }
   ],
   "source": [
    "tags = [tag.get(\"content\") for tag in soup.find_all(\"meta\", {\"name\": \"description\"})]\n",
    "tags[0]"
   ]
  },
  {
   "cell_type": "code",
   "execution_count": 37,
   "id": "621347d8",
   "metadata": {},
   "outputs": [
    {
     "data": {
      "text/plain": [
       "'IOT Domu'"
      ]
     },
     "execution_count": 37,
     "metadata": {},
     "output_type": "execute_result"
    }
   ],
   "source": [
    "soup.title.get_text()"
   ]
  },
  {
   "cell_type": "code",
   "execution_count": 21,
   "id": "0600acd6",
   "metadata": {},
   "outputs": [],
   "source": [
    "session = HTMLSession()\n",
    "response = session.get(\"https://www.grandrapidsmi.gov/Home\")\n",
    "soup = BeautifulSoup(response.content, 'html.parser')\n"
   ]
  },
  {
   "cell_type": "code",
   "execution_count": 29,
   "id": "93110c0f",
   "metadata": {},
   "outputs": [],
   "source": [
    "#soup.find_all(find_all_description_metas)\n",
    "\n",
    "def remove_square_brackets(text):\n",
    "    return re.sub(r'\\[[^\\]]*\\]', '',text)"
   ]
  },
  {
   "cell_type": "code",
   "execution_count": 31,
   "id": "e52878db",
   "metadata": {},
   "outputs": [],
   "source": [
    "\n",
    "response = session.get(f\"https://en.wikipedia.org/w/rest.php/v1/page/Czech_Republic/html\")\n",
    "\n",
    "page = BeautifulSoup(response.content, 'html.parser')"
   ]
  },
  {
   "cell_type": "code",
   "execution_count": 36,
   "id": "db0c6e86",
   "metadata": {},
   "outputs": [
    {
     "data": {
      "text/plain": [
       "'The Czech Republic,[lower-alpha 1][12] also called Czechia[lower-alpha 2][13] is a landlocked country in Central Europe. Historically known as Bohemia,[14] it is bordered by Austria to the south, Germany to the west, Poland to the northeast, and Slovakia to the southeast.[15] The Czech Republic has a hilly landscape that covers an area of 78,871 square kilometers (30,452\\xa0sq\\xa0mi) with a mostly temperate continental and oceanic climate. The capital and largest city is Prague; other major cities and urban areas include Brno, Ostrava, Plzeň and Liberec.'"
      ]
     },
     "execution_count": 36,
     "metadata": {},
     "output_type": "execute_result"
    }
   ],
   "source": [
    "tags = page.select(\"section > p\")\n",
    "# for tag in tags:\n",
    "#     if tag.name == \"p\":\n",
    "#         for t in tag:\n",
    "#             if t.name == \"sup\":\n",
    "#                 t.extract()\n",
    "tags[1].get_text()"
   ]
  },
  {
   "cell_type": "code",
   "execution_count": 54,
   "id": "9d4c4d51",
   "metadata": {},
   "outputs": [],
   "source": [
    "response = session.get(\"https://en.chateauversailles.fr/discover/estate/gardens\")\n",
    "page = BeautifulSoup(response.content, 'html.parser')"
   ]
  },
  {
   "cell_type": "code",
   "execution_count": 79,
   "id": "3461b280",
   "metadata": {},
   "outputs": [
    {
     "name": "stdout",
     "output_type": "stream",
     "text": [
      "looking for: Creating the gardens was a monumental task. Large amounts of soil had to be shifted to level the ground, create parterres, build the Orangery and dig out the\n"
     ]
    },
    {
     "data": {
      "text/plain": [
       "<p style=\"text-align: justify;\">Creating the gardens was a monumental task. Large amounts of soil had to be shifted to level the ground, create parterres, build the <a href=\"http://en.chateauversailles.fr/discover/estate/gardens/orangery\">Orangery</a> and dig out the fountains and Canal in places previously occupied solely by meadows and marshes. Trees were brought in from different regions of France. Thousands of men, sometimes even entire regiments, took part in this immense project.</p>"
      ]
     },
     "execution_count": 79,
     "metadata": {},
     "output_type": "execute_result"
    }
   ],
   "source": [
    "import re\n",
    "google_text = \"Creating the gardens was a monumental task. Large amounts of soil had to be shifted to level the ground, create parterres, build the Orangery and dig out the ... Uploaded by Château de Versailles\"\n",
    "look_text = re.sub(\"\\.\\.\\..*$\", \"\", google_text).strip()\n",
    "\n",
    "def find_match(x):\n",
    "    if x.name != \"p\":\n",
    "        return False\n",
    "\n",
    "    return x.get_text().startswith(look_text)\n",
    "\n",
    "found_p = page.find(find_match)\n",
    "paragraphs = page.find_all(lambda x: x.name == \"p\")\n",
    "\n",
    "print(\"looking for:\", look_text)\n",
    "found_p\n",
    "# for x in paragraphs:\n",
    "#     print(x.get_text(), x.get_text().startswith(look_text))\n",
    "# paragraphs[7].get_text(), look_text"
   ]
  },
  {
   "cell_type": "code",
   "execution_count": 88,
   "id": "eb7bc94f",
   "metadata": {},
   "outputs": [],
   "source": [
    "response = session.get(\"https://en.wikivoyage.org/wiki/Tofino\")\n",
    "soup = BeautifulSoup(response.content, 'html.parser')\n"
   ]
  },
  {
   "cell_type": "code",
   "execution_count": 90,
   "id": "1b415bda",
   "metadata": {},
   "outputs": [
    {
     "name": "stdout",
     "output_type": "stream",
     "text": [
      "looking for: Tofino, population 1,700, is a former logging and fishing village that has become a center for ecotourism and activities such as whale watching, surfing,\n"
     ]
    },
    {
     "data": {
      "text/plain": [
       "[('\\nTofino, population 1,700, is a former logging and fishing village that has become a center for ecotourism and activities such as whale watching, surfing, and camping. It is located on Clayoquot Sound, on the Pacific coast of Vancouver Island, 208 km (129 miles) west of Nanaimo.  Clayoquot Sound is a UNESCO Biosphere Reserve.\\n',\n",
       "  True),\n",
       " ('Tofino Inlet was named in 1792 by the Spanish explorers Galiano and Valdés, in honour of Admiral Vicente Tofiño de San Miguel y Wanderiales (or Vanderiales), under whom Galiano had learned cartography.\\n',\n",
       "  False),\n",
       " ('Tofino is accessible via Highway 4.  The road, best driven during the day, is very twisty and narrow (particularly west of Port Alberni) but offers great views of lakes and mountains on the west coast.  Coming from Victoria, take Highway #1/#19 north 160 km to the Highway 4 turnoff west to Port Alberni.\\n',\n",
       "  False),\n",
       " ('If you are starting from Vancouver, catch the ferry from Horseshoe Bay or Tsawwassen to Nanaimo on BC Ferries, and drive the rest of the way.\\n',\n",
       "  False),\n",
       " ('In the summer you can catch the M.V. Frances Barkley from Port Alberni to Ucluelet (37km south from Tofino), 4½ hours, $30 one-way.\\n',\n",
       "  False),\n",
       " ('The town is small enough to walk through. A dedicated walking and bike path runs all the way down to Cox Bay. A free shuttle bus with a surfboard rack runs hourly in the summer season giving access as far as Cox bay.\\n',\n",
       "  False),\n",
       " (\"Tofino is a popular tourist destination for visitors from around the world. The long sandy beaches south of town are the main attraction, as are whale watching, hot springs, and surfing. In the winter, many of the facilities close up. However, there are still a number of travellers who come to see the storm season. For hikers, Tofino is a gateway to the Island's backcountry. With a guide or on your own, explore amazing trails or paddle beautiful inlets. There is still a lot of wildlife, such as Orcas, Bald Eagles, and bears. Tofino and Clayoquot Sound is a world renowned kayaking destination offering wilderness experiences on daily trips between 2 - 6 hr or even multi-day kayak adventures. Usually no previous experience is required.\\n\",\n",
       "  False),\n",
       " ('Tofino is the surfing capital of Canada. There are only beach breaks in Tofino. Surfing (with a 5mm wet suit) is popular whenever the surf is up. Winter brings higher waves yet the temperature is still moderate enough to surf. There are 3 surfing beaches and all can get busy in the high season. Many surf shops in and out of town provide rentals and lessons (see Buy section)\\n',\n",
       "  False),\n",
       " ('Surfing:\\n', False),\n",
       " (\"During high season (May–September) hotels here are among the most expensive in BC.  During the off-season better deals are available.  If you don't mind the two hour drive, considerably cheaper accommodation is available in Port Alberni.\\n\",\n",
       "  False),\n",
       " ('In the summer the campgrounds are very popular. There are a number of public and private campgrounds in the Tofino area. Most of these operate from about Mid-March to October or November.\\n',\n",
       "  False),\n",
       " ('Private cabins, homes and condominiums are available year round. This option is ideal for couples, families or groups who desire a self-catered holiday.\\n',\n",
       "  False),\n",
       " ('Cell phones work in Tofino, but data connections can be very slow. Computers with Internet access are available at a few shops in town (such as the Tofino Pharmacy and Tofitian Coffee Shop). Free Wifi is available at Darwins Cafe at the Tofino Botanical Gardens.\\n',\n",
       "  False),\n",
       " ('\\n', False)]"
      ]
     },
     "execution_count": 90,
     "metadata": {},
     "output_type": "execute_result"
    }
   ],
   "source": [
    "look_text = \"Tofino, population 1,700, is a former logging and fishing village that has become a center for ecotourism and activities such as whale watching, surfing,\"\n",
    "\n",
    "found_p = soup.find(find_match)\n",
    "paragraphs = soup.find_all(lambda x: x.name == \"p\")\n",
    "\n",
    "print(\"looking for:\", look_text)\n",
    "[(x.get_text(), x.get_text().strip().startswith(look_text)) for x in paragraphs]"
   ]
  },
  {
   "cell_type": "code",
   "execution_count": null,
   "id": "1e59fe0d",
   "metadata": {},
   "outputs": [],
   "source": []
  }
 ],
 "metadata": {
  "interpreter": {
   "hash": "293bd1c08fc55577dcaba20f9488b7f2b02ba5be8eb6f02eced97a3aa5098b20"
  },
  "kernelspec": {
   "display_name": "Python 3.9.12 ('venv': venv)",
   "language": "python",
   "name": "python3"
  },
  "language_info": {
   "codemirror_mode": {
    "name": "ipython",
    "version": 3
   },
   "file_extension": ".py",
   "mimetype": "text/x-python",
   "name": "python",
   "nbconvert_exporter": "python",
   "pygments_lexer": "ipython3",
   "version": "3.9.13"
  }
 },
 "nbformat": 4,
 "nbformat_minor": 5
}
