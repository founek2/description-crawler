{
 "cells": [
  {
   "cell_type": "code",
   "execution_count": 14,
   "id": "ee826b59",
   "metadata": {},
   "outputs": [],
   "source": [
    "import requests\n",
    "import urllib\n",
    "from requests_html import HTML\n",
    "from requests_html import HTMLSession\n",
    "from bs4 import BeautifulSoup\n",
    "\n",
    "def find_all_description_metas(tag):\n",
    "    return tag.name ==\"meta\" and (tag.get(\"name\") == \"description\" or tag.get(\"property\") == \"og:description\")\n"
   ]
  },
  {
   "cell_type": "code",
   "execution_count": 12,
   "id": "ae6f5fd0",
   "metadata": {},
   "outputs": [],
   "source": [
    "session = HTMLSession()\n",
    "response = session.get(\"https://www.google.co.uk/search?q=samsung+s20&hl=en\")"
   ]
  },
  {
   "cell_type": "code",
   "execution_count": 13,
   "id": "64516468",
   "metadata": {},
   "outputs": [],
   "source": [
    "soup = BeautifulSoup(response.content, 'html.parser')\n",
    "\n",
    "def has_link(tag):\n",
    "    '''Returns True for tags with a href attribute'''\n",
    "    if not (tag.name ==\"a\" and bool(tag.get(\"href\"))):\n",
    "        return False\n",
    "    if not tag.find(\"h3\"):\n",
    "        return False\n",
    "        \n",
    "    if \"google\" in tag.get(\"href\"):\n",
    "        return False\n",
    "    return True\n",
    "\n",
    "\n",
    "just_links = soup.find_all(has_link)"
   ]
  },
  {
   "cell_type": "code",
   "execution_count": 15,
   "id": "1a71599f",
   "metadata": {},
   "outputs": [
    {
     "data": {
      "text/plain": [
       "['https://www.alza.cz/samsung-galaxy-s20/18875321.htm',\n",
       " 'https://www.samsung.com/cz/smartphones/galaxy-s20/',\n",
       " 'https://www.samsung.com/cz/smartphones/galaxy-s20/buy/',\n",
       " 'https://mobilni-telefony.heureka.cz/samsung-galaxy-s20-g980f-8gb-128gb-dual-sim/',\n",
       " 'https://www.gsmarena.com/samsung_galaxy_s20-10081.php',\n",
       " 'https://www.gsmarena.com/samsung_galaxy_s20_5g-10044.php',\n",
       " 'https://www.zbozi.cz/vyrobek/samsung-galaxy-s20-g980f/',\n",
       " 'https://www.zbozi.cz/vyrobek/samsung-galaxy-s20-fe-g780f/']"
      ]
     },
     "execution_count": 15,
     "metadata": {},
     "output_type": "execute_result"
    }
   ],
   "source": [
    "[tag.get(\"href\") for tag in just_links if tag.get(\"href\").startswith(\"http\")]"
   ]
  },
  {
   "cell_type": "code",
   "execution_count": 11,
   "id": "1246d2b5",
   "metadata": {},
   "outputs": [
    {
     "data": {
      "text/plain": [
       "'Počítače | CZC.czReklama·https://www.czc.cz/313 110 000\\n'"
      ]
     },
     "execution_count": 11,
     "metadata": {},
     "output_type": "execute_result"
    }
   ],
   "source": [
    "link_with_ad = \"\"\"\n",
    "<a class=\"sVXRqc\" data-agch=\"HJ3bqe\" data-pcu=\"https://www.czc.cz/\" data-agdh=\"fvd3vc\" data-rw=\"https://www.googleadservices.com/pagead/aclk?sa=L&amp;ai=DChcSEwia4tDp9J_4AhULzncKHSyiAdQYABAUGgJlZg&amp;ae=2&amp;ohost=www.google.com&amp;cid=CAESa-D2EX3R-ZUqANfv5cWefGz5_1xpr4FZThAbteWVly2LT-dN_QFDnbK42ME6vXvaXxynfPbhOE3705-2kJtZa_b_erjewJ1KDTzilLUCdHtItSXCzANOoNIEdGgdsnWkLyo_w3JwK4TzKkUE&amp;sig=AOD64_04XZd4dTW5ibka21x85iOrp0Lq_w&amp;q&amp;adurl\" href=\"https://www.czc.cz/pocitace/produkty\" data-ae=\"1\" data-al=\"1\" data-ved=\"2ahUKEwjisMbp9J_4AhXZk_0HHaGJB_cQ0Qx6BAgFEAE\"><br><div class=\"CCgQ5 vCa9Yd QfkTvb MUxGbd v0nnCb\" aria-level=\"3\" role=\"heading\"><span>Počítače | CZC.cz</span></div><div class=\"d8lRkd\"><span class=\"CnP9N U3A9Ac irmCpc\">Reklama<span style=\"padding:0 5px\">·</span></span><span class=\"x2VHCd OSrXXb qzEoUe\" data-dtld=\"czc.cz\" role=\"text\">https://www.czc.cz/</span><span class=\"nMdasd weu8Yd r2fjmd\"><span class=\"aii\"><div class=\"YMEk9e r2fjmd HbX59e uYZpsf\"><span class=\"YauQSc u60jwe Tbiej\"></span></div></span></span><span class=\"fUamLb r7TaRd nMdasd MUxGbd wuQ4Ob WZ8Tjf\" style=\"color:#dadce0\" data-hveid=\"CAUQAg\"><span>313 110 000</span></span></div></a>\n",
    "\"\"\"\n",
    "\n",
    "soup2 = BeautifulSoup(link_with_ad)\n",
    "soup2.get_text()"
   ]
  },
  {
   "cell_type": "code",
   "execution_count": 11,
   "id": "05705c48",
   "metadata": {},
   "outputs": [],
   "source": [
    "session = HTMLSession()\n",
    "response = session.get(\"https://iotdomu.cz\")\n",
    "soup = BeautifulSoup(response.content, 'html.parser')"
   ]
  },
  {
   "cell_type": "code",
   "execution_count": 13,
   "id": "84e9b7f2",
   "metadata": {},
   "outputs": [
    {
     "data": {
      "text/plain": [
       "'Založte si účet a připojte si vlastní zařízení! Vše je velmi snadné.'"
      ]
     },
     "execution_count": 13,
     "metadata": {},
     "output_type": "execute_result"
    }
   ],
   "source": [
    "tags = [tag.get(\"content\") for tag in soup.find_all(\"meta\", {\"name\": \"description\"})]\n",
    "tags[0]"
   ]
  },
  {
   "cell_type": "code",
   "execution_count": 37,
   "id": "621347d8",
   "metadata": {},
   "outputs": [
    {
     "data": {
      "text/plain": [
       "'IOT Domu'"
      ]
     },
     "execution_count": 37,
     "metadata": {},
     "output_type": "execute_result"
    }
   ],
   "source": [
    "soup.title.get_text()"
   ]
  },
  {
   "cell_type": "code",
   "execution_count": 21,
   "id": "0600acd6",
   "metadata": {},
   "outputs": [],
   "source": [
    "session = HTMLSession()\n",
    "response = session.get(\"https://www.grandrapidsmi.gov/Home\")\n",
    "soup = BeautifulSoup(response.content, 'html.parser')\n"
   ]
  },
  {
   "cell_type": "code",
   "execution_count": 22,
   "id": "93110c0f",
   "metadata": {},
   "outputs": [
    {
     "data": {
      "text/plain": [
       "[<meta content=\"The official website of the City of Grand Rapids.\" name=\"description\"/>,\n",
       " <meta content=\"The official website of the City of Grand Rapids.\" property=\"og:description\"/>]"
      ]
     },
     "execution_count": 22,
     "metadata": {},
     "output_type": "execute_result"
    }
   ],
   "source": [
    "soup.find_all(find_all_description_metas)"
   ]
  },
  {
   "cell_type": "code",
   "execution_count": null,
   "id": "e52878db",
   "metadata": {},
   "outputs": [],
   "source": []
  }
 ],
 "metadata": {
  "interpreter": {
   "hash": "293bd1c08fc55577dcaba20f9488b7f2b02ba5be8eb6f02eced97a3aa5098b20"
  },
  "kernelspec": {
   "display_name": "Python 3.9.12 ('venv': venv)",
   "language": "python",
   "name": "python3"
  },
  "language_info": {
   "codemirror_mode": {
    "name": "ipython",
    "version": 3
   },
   "file_extension": ".py",
   "mimetype": "text/x-python",
   "name": "python",
   "nbconvert_exporter": "python",
   "pygments_lexer": "ipython3",
   "version": "3.9.13"
  }
 },
 "nbformat": 4,
 "nbformat_minor": 5
}
