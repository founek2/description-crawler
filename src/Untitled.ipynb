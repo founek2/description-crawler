{
 "cells": [
  {
   "cell_type": "code",
   "execution_count": null,
   "id": "ee826b59",
   "metadata": {},
   "outputs": [],
   "source": [
    "import requests\n",
    "import urllib\n",
    "from requests_html import HTML\n",
    "from requests_html import HTMLSession"
   ]
  },
  {
   "cell_type": "code",
   "execution_count": null,
   "id": "ae6f5fd0",
   "metadata": {},
   "outputs": [],
   "source": [
    "session = HTMLSession()\n",
    "response = session.get(\"https://www.google.co.uk/search?q=Vienna\")\n",
    "response"
   ]
  }
 ],
 "metadata": {
  "interpreter": {
   "hash": "293bd1c08fc55577dcaba20f9488b7f2b02ba5be8eb6f02eced97a3aa5098b20"
  },
  "kernelspec": {
   "display_name": "Python 3.9.12 ('venv': venv)",
   "language": "python",
   "name": "python3"
  },
  "language_info": {
   "codemirror_mode": {
    "name": "ipython",
    "version": 3
   },
   "file_extension": ".py",
   "mimetype": "text/x-python",
   "name": "python",
   "nbconvert_exporter": "python",
   "pygments_lexer": "ipython3",
   "version": "3.9.12"
  }
 },
 "nbformat": 4,
 "nbformat_minor": 5
}
